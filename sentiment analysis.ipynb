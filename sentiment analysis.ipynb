{
 "cells": [
  {
   "cell_type": "code",
   "execution_count": 1,
   "id": "2606e1e0",
   "metadata": {
    "scrolled": true
   },
   "outputs": [
    {
     "data": {
      "text/html": [
       "<div>\n",
       "<style scoped>\n",
       "    .dataframe tbody tr th:only-of-type {\n",
       "        vertical-align: middle;\n",
       "    }\n",
       "\n",
       "    .dataframe tbody tr th {\n",
       "        vertical-align: top;\n",
       "    }\n",
       "\n",
       "    .dataframe thead th {\n",
       "        text-align: right;\n",
       "    }\n",
       "</style>\n",
       "<table border=\"1\" class=\"dataframe\">\n",
       "  <thead>\n",
       "    <tr style=\"text-align: right;\">\n",
       "      <th></th>\n",
       "      <th>Polarity</th>\n",
       "      <th>Sentence</th>\n",
       "    </tr>\n",
       "  </thead>\n",
       "  <tbody>\n",
       "    <tr>\n",
       "      <th>0</th>\n",
       "      <td>0</td>\n",
       "      <td>పరువునష్టాన్ని కలిగించే చర్యలను 1860 నాటి భారత...</td>\n",
       "    </tr>\n",
       "    <tr>\n",
       "      <th>1</th>\n",
       "      <td>1</td>\n",
       "      <td>వాహనంలో ఉన్న పోలీసు సిబ్బందికి బుల్లెట్ ప్రూఫ్...</td>\n",
       "    </tr>\n",
       "    <tr>\n",
       "      <th>2</th>\n",
       "      <td>-1</td>\n",
       "      <td>దేశంపట్ల కానీ, ప్రజలపట్ల కానీ బాధ్యత కనిపించదు.</td>\n",
       "    </tr>\n",
       "    <tr>\n",
       "      <th>3</th>\n",
       "      <td>0</td>\n",
       "      <td>ఒక పనిమనిషి కుమారుడు ఈ దేశ ప్రధాని కావడం అంబేద...</td>\n",
       "    </tr>\n",
       "    <tr>\n",
       "      <th>4</th>\n",
       "      <td>0</td>\n",
       "      <td>మత ప్రాతిపదికన మనుషుల్ని రెచ్చగొట్టే ఉగ్రవాదం ...</td>\n",
       "    </tr>\n",
       "    <tr>\n",
       "      <th>...</th>\n",
       "      <td>...</td>\n",
       "      <td>...</td>\n",
       "    </tr>\n",
       "    <tr>\n",
       "      <th>5405</th>\n",
       "      <td>1</td>\n",
       "      <td>క్రీడాస్ఫూర్తి వీటన్నింటినీ మించి ఉన్నప్పుడు మ...</td>\n",
       "    </tr>\n",
       "    <tr>\n",
       "      <th>5406</th>\n",
       "      <td>0</td>\n",
       "      <td>ఆయన అందించిన చైతన్యంతో ఎదిగివచ్చి, సంఘటితమవుతు...</td>\n",
       "    </tr>\n",
       "    <tr>\n",
       "      <th>5407</th>\n",
       "      <td>1</td>\n",
       "      <td>భారతతో వాణిజ్యాన్ని వజ్రాలకు మాత్రమే పరిమితం చ...</td>\n",
       "    </tr>\n",
       "    <tr>\n",
       "      <th>5408</th>\n",
       "      <td>0</td>\n",
       "      <td>అంతర్జాతీయ టోర్నీల్లో పోర్చుగల్ విజేతగా నిలవడం...</td>\n",
       "    </tr>\n",
       "    <tr>\n",
       "      <th>5409</th>\n",
       "      <td>0</td>\n",
       "      <td>కానీ, నాయకులకు ఈ అంశం సుదీర్ఘకాలం నానడం అవసరం.</td>\n",
       "    </tr>\n",
       "  </tbody>\n",
       "</table>\n",
       "<p>5410 rows × 2 columns</p>\n",
       "</div>"
      ],
      "text/plain": [
       "      Polarity                                           Sentence\n",
       "0            0  పరువునష్టాన్ని కలిగించే చర్యలను 1860 నాటి భారత...\n",
       "1            1  వాహనంలో ఉన్న పోలీసు సిబ్బందికి బుల్లెట్ ప్రూఫ్...\n",
       "2           -1    దేశంపట్ల కానీ, ప్రజలపట్ల కానీ బాధ్యత కనిపించదు.\n",
       "3            0  ఒక పనిమనిషి కుమారుడు ఈ దేశ ప్రధాని కావడం అంబేద...\n",
       "4            0  మత ప్రాతిపదికన మనుషుల్ని రెచ్చగొట్టే ఉగ్రవాదం ...\n",
       "...        ...                                                ...\n",
       "5405         1  క్రీడాస్ఫూర్తి వీటన్నింటినీ మించి ఉన్నప్పుడు మ...\n",
       "5406         0  ఆయన అందించిన చైతన్యంతో ఎదిగివచ్చి, సంఘటితమవుతు...\n",
       "5407         1  భారతతో వాణిజ్యాన్ని వజ్రాలకు మాత్రమే పరిమితం చ...\n",
       "5408         0  అంతర్జాతీయ టోర్నీల్లో పోర్చుగల్ విజేతగా నిలవడం...\n",
       "5409         0     కానీ, నాయకులకు ఈ అంశం సుదీర్ఘకాలం నానడం అవసరం.\n",
       "\n",
       "[5410 rows x 2 columns]"
      ]
     },
     "execution_count": 1,
     "metadata": {},
     "output_type": "execute_result"
    }
   ],
   "source": [
    "import numpy as np\n",
    "import pandas as pd\n",
    "d = pd.read_csv(\"se.csv\")\n",
    "d"
   ]
  },
  {
   "cell_type": "code",
   "execution_count": 2,
   "id": "a7d0c591",
   "metadata": {},
   "outputs": [
    {
     "data": {
      "text/html": [
       "<div>\n",
       "<style scoped>\n",
       "    .dataframe tbody tr th:only-of-type {\n",
       "        vertical-align: middle;\n",
       "    }\n",
       "\n",
       "    .dataframe tbody tr th {\n",
       "        vertical-align: top;\n",
       "    }\n",
       "\n",
       "    .dataframe thead th {\n",
       "        text-align: right;\n",
       "    }\n",
       "</style>\n",
       "<table border=\"1\" class=\"dataframe\">\n",
       "  <thead>\n",
       "    <tr style=\"text-align: right;\">\n",
       "      <th></th>\n",
       "      <th>Polarity</th>\n",
       "      <th>Sentence</th>\n",
       "    </tr>\n",
       "  </thead>\n",
       "  <tbody>\n",
       "    <tr>\n",
       "      <th>0</th>\n",
       "      <td>0</td>\n",
       "      <td>పరువునష్టాన్ని కలిగించే చర్యలను 1860 నాటి భారత...</td>\n",
       "    </tr>\n",
       "    <tr>\n",
       "      <th>1</th>\n",
       "      <td>1</td>\n",
       "      <td>వాహనంలో ఉన్న పోలీసు సిబ్బందికి బుల్లెట్ ప్రూఫ్...</td>\n",
       "    </tr>\n",
       "    <tr>\n",
       "      <th>2</th>\n",
       "      <td>-1</td>\n",
       "      <td>దేశంపట్ల కానీ, ప్రజలపట్ల కానీ బాధ్యత కనిపించదు.</td>\n",
       "    </tr>\n",
       "    <tr>\n",
       "      <th>3</th>\n",
       "      <td>0</td>\n",
       "      <td>ఒక పనిమనిషి కుమారుడు ఈ దేశ ప్రధాని కావడం అంబేద...</td>\n",
       "    </tr>\n",
       "    <tr>\n",
       "      <th>4</th>\n",
       "      <td>0</td>\n",
       "      <td>మత ప్రాతిపదికన మనుషుల్ని రెచ్చగొట్టే ఉగ్రవాదం ...</td>\n",
       "    </tr>\n",
       "  </tbody>\n",
       "</table>\n",
       "</div>"
      ],
      "text/plain": [
       "   Polarity                                           Sentence\n",
       "0         0  పరువునష్టాన్ని కలిగించే చర్యలను 1860 నాటి భారత...\n",
       "1         1  వాహనంలో ఉన్న పోలీసు సిబ్బందికి బుల్లెట్ ప్రూఫ్...\n",
       "2        -1    దేశంపట్ల కానీ, ప్రజలపట్ల కానీ బాధ్యత కనిపించదు.\n",
       "3         0  ఒక పనిమనిషి కుమారుడు ఈ దేశ ప్రధాని కావడం అంబేద...\n",
       "4         0  మత ప్రాతిపదికన మనుషుల్ని రెచ్చగొట్టే ఉగ్రవాదం ..."
      ]
     },
     "execution_count": 2,
     "metadata": {},
     "output_type": "execute_result"
    }
   ],
   "source": [
    "d.head(5)"
   ]
  },
  {
   "cell_type": "code",
   "execution_count": 3,
   "id": "3add291a",
   "metadata": {},
   "outputs": [
    {
     "data": {
      "text/html": [
       "<div>\n",
       "<style scoped>\n",
       "    .dataframe tbody tr th:only-of-type {\n",
       "        vertical-align: middle;\n",
       "    }\n",
       "\n",
       "    .dataframe tbody tr th {\n",
       "        vertical-align: top;\n",
       "    }\n",
       "\n",
       "    .dataframe thead th {\n",
       "        text-align: right;\n",
       "    }\n",
       "</style>\n",
       "<table border=\"1\" class=\"dataframe\">\n",
       "  <thead>\n",
       "    <tr style=\"text-align: right;\">\n",
       "      <th></th>\n",
       "      <th>Polarity</th>\n",
       "      <th>Sentence</th>\n",
       "    </tr>\n",
       "  </thead>\n",
       "  <tbody>\n",
       "    <tr>\n",
       "      <th>5405</th>\n",
       "      <td>1</td>\n",
       "      <td>క్రీడాస్ఫూర్తి వీటన్నింటినీ మించి ఉన్నప్పుడు మ...</td>\n",
       "    </tr>\n",
       "    <tr>\n",
       "      <th>5406</th>\n",
       "      <td>0</td>\n",
       "      <td>ఆయన అందించిన చైతన్యంతో ఎదిగివచ్చి, సంఘటితమవుతు...</td>\n",
       "    </tr>\n",
       "    <tr>\n",
       "      <th>5407</th>\n",
       "      <td>1</td>\n",
       "      <td>భారతతో వాణిజ్యాన్ని వజ్రాలకు మాత్రమే పరిమితం చ...</td>\n",
       "    </tr>\n",
       "    <tr>\n",
       "      <th>5408</th>\n",
       "      <td>0</td>\n",
       "      <td>అంతర్జాతీయ టోర్నీల్లో పోర్చుగల్ విజేతగా నిలవడం...</td>\n",
       "    </tr>\n",
       "    <tr>\n",
       "      <th>5409</th>\n",
       "      <td>0</td>\n",
       "      <td>కానీ, నాయకులకు ఈ అంశం సుదీర్ఘకాలం నానడం అవసరం.</td>\n",
       "    </tr>\n",
       "  </tbody>\n",
       "</table>\n",
       "</div>"
      ],
      "text/plain": [
       "      Polarity                                           Sentence\n",
       "5405         1  క్రీడాస్ఫూర్తి వీటన్నింటినీ మించి ఉన్నప్పుడు మ...\n",
       "5406         0  ఆయన అందించిన చైతన్యంతో ఎదిగివచ్చి, సంఘటితమవుతు...\n",
       "5407         1  భారతతో వాణిజ్యాన్ని వజ్రాలకు మాత్రమే పరిమితం చ...\n",
       "5408         0  అంతర్జాతీయ టోర్నీల్లో పోర్చుగల్ విజేతగా నిలవడం...\n",
       "5409         0     కానీ, నాయకులకు ఈ అంశం సుదీర్ఘకాలం నానడం అవసరం."
      ]
     },
     "execution_count": 3,
     "metadata": {},
     "output_type": "execute_result"
    }
   ],
   "source": [
    "d.tail(5)"
   ]
  },
  {
   "cell_type": "code",
   "execution_count": 4,
   "id": "2c999ac6",
   "metadata": {},
   "outputs": [
    {
     "data": {
      "text/plain": [
       " 0    2478\n",
       " 1    1491\n",
       "-1    1441\n",
       "Name: Polarity, dtype: int64"
      ]
     },
     "execution_count": 4,
     "metadata": {},
     "output_type": "execute_result"
    }
   ],
   "source": [
    "d['Polarity'].value_counts()"
   ]
  },
  {
   "cell_type": "code",
   "execution_count": 5,
   "id": "fb4a1708",
   "metadata": {},
   "outputs": [
    {
     "data": {
      "text/plain": [
       "<AxesSubplot:>"
      ]
     },
     "execution_count": 5,
     "metadata": {},
     "output_type": "execute_result"
    },
    {
     "data": {
      "image/png": "[encoded data removed]",
      "text/plain": [
       "<Figure size 432x288 with 1 Axes>"
      ]
     },
     "metadata": {
      "needs_background": "light"
     },
     "output_type": "display_data"
    }
   ],
   "source": [
    "d['Polarity'].value_counts().plot(kind = 'bar')"
   ]
  },
  {
   "cell_type": "markdown",
   "id": "452f84c2",
   "metadata": {},
   "source": [
    "# Removing Special Characters from Data"
   ]
  },
  {
   "cell_type": "code",
   "execution_count": 6,
   "id": "350f56d6",
   "metadata": {},
   "outputs": [],
   "source": [
    "sentences = d['Sentence']\n",
    "filt_sent = []\n",
    "for sentence in sentences:\n",
    "    remove_sep = sentence.replace(',','').replace('?','').replace('.','').replace(\"'\",\"\")\n",
    "    filt_sent.append(remove_sep)\n"
   ]
  },
  {
   "cell_type": "code",
   "execution_count": 7,
   "id": "6705f91d",
   "metadata": {},
   "outputs": [],
   "source": [
    "d['Filter Sentence'] = filt_sent"
   ]
  },
  {
   "cell_type": "code",
   "execution_count": 8,
   "id": "3b13d045",
   "metadata": {},
   "outputs": [
    {
     "data": {
      "text/html": [
       "<div>\n",
       "<style scoped>\n",
       "    .dataframe tbody tr th:only-of-type {\n",
       "        vertical-align: middle;\n",
       "    }\n",
       "\n",
       "    .dataframe tbody tr th {\n",
       "        vertical-align: top;\n",
       "    }\n",
       "\n",
       "    .dataframe thead th {\n",
       "        text-align: right;\n",
       "    }\n",
       "</style>\n",
       "<table border=\"1\" class=\"dataframe\">\n",
       "  <thead>\n",
       "    <tr style=\"text-align: right;\">\n",
       "      <th></th>\n",
       "      <th>Polarity</th>\n",
       "      <th>Sentence</th>\n",
       "      <th>Filter Sentence</th>\n",
       "    </tr>\n",
       "  </thead>\n",
       "  <tbody>\n",
       "    <tr>\n",
       "      <th>0</th>\n",
       "      <td>0</td>\n",
       "      <td>పరువునష్టాన్ని కలిగించే చర్యలను 1860 నాటి భారత...</td>\n",
       "      <td>పరువునష్టాన్ని కలిగించే చర్యలను 1860 నాటి భారత...</td>\n",
       "    </tr>\n",
       "    <tr>\n",
       "      <th>1</th>\n",
       "      <td>1</td>\n",
       "      <td>వాహనంలో ఉన్న పోలీసు సిబ్బందికి బుల్లెట్ ప్రూఫ్...</td>\n",
       "      <td>వాహనంలో ఉన్న పోలీసు సిబ్బందికి బుల్లెట్ ప్రూఫ్...</td>\n",
       "    </tr>\n",
       "    <tr>\n",
       "      <th>2</th>\n",
       "      <td>-1</td>\n",
       "      <td>దేశంపట్ల కానీ, ప్రజలపట్ల కానీ బాధ్యత కనిపించదు.</td>\n",
       "      <td>దేశంపట్ల కానీ ప్రజలపట్ల కానీ బాధ్యత కనిపించదు</td>\n",
       "    </tr>\n",
       "    <tr>\n",
       "      <th>3</th>\n",
       "      <td>0</td>\n",
       "      <td>ఒక పనిమనిషి కుమారుడు ఈ దేశ ప్రధాని కావడం అంబేద...</td>\n",
       "      <td>ఒక పనిమనిషి కుమారుడు ఈ దేశ ప్రధాని కావడం అంబేద...</td>\n",
       "    </tr>\n",
       "    <tr>\n",
       "      <th>4</th>\n",
       "      <td>0</td>\n",
       "      <td>మత ప్రాతిపదికన మనుషుల్ని రెచ్చగొట్టే ఉగ్రవాదం ...</td>\n",
       "      <td>మత ప్రాతిపదికన మనుషుల్ని రెచ్చగొట్టే ఉగ్రవాదం ...</td>\n",
       "    </tr>\n",
       "  </tbody>\n",
       "</table>\n",
       "</div>"
      ],
      "text/plain": [
       "   Polarity                                           Sentence  \\\n",
       "0         0  పరువునష్టాన్ని కలిగించే చర్యలను 1860 నాటి భారత...   \n",
       "1         1  వాహనంలో ఉన్న పోలీసు సిబ్బందికి బుల్లెట్ ప్రూఫ్...   \n",
       "2        -1    దేశంపట్ల కానీ, ప్రజలపట్ల కానీ బాధ్యత కనిపించదు.   \n",
       "3         0  ఒక పనిమనిషి కుమారుడు ఈ దేశ ప్రధాని కావడం అంబేద...   \n",
       "4         0  మత ప్రాతిపదికన మనుషుల్ని రెచ్చగొట్టే ఉగ్రవాదం ...   \n",
       "\n",
       "                                     Filter Sentence  \n",
       "0  పరువునష్టాన్ని కలిగించే చర్యలను 1860 నాటి భారత...  \n",
       "1  వాహనంలో ఉన్న పోలీసు సిబ్బందికి బుల్లెట్ ప్రూఫ్...  \n",
       "2      దేశంపట్ల కానీ ప్రజలపట్ల కానీ బాధ్యత కనిపించదు  \n",
       "3  ఒక పనిమనిషి కుమారుడు ఈ దేశ ప్రధాని కావడం అంబేద...  \n",
       "4  మత ప్రాతిపదికన మనుషుల్ని రెచ్చగొట్టే ఉగ్రవాదం ...  "
      ]
     },
     "execution_count": 8,
     "metadata": {},
     "output_type": "execute_result"
    }
   ],
   "source": [
    "d.head(5)"
   ]
  },
  {
   "cell_type": "markdown",
   "id": "596802eb",
   "metadata": {},
   "source": [
    "# One Hot Encoding"
   ]
  },
  {
   "cell_type": "code",
   "execution_count": 9,
   "id": "055ed4b1",
   "metadata": {},
   "outputs": [
    {
     "data": {
      "text/html": [
       "<div>\n",
       "<style scoped>\n",
       "    .dataframe tbody tr th:only-of-type {\n",
       "        vertical-align: middle;\n",
       "    }\n",
       "\n",
       "    .dataframe tbody tr th {\n",
       "        vertical-align: top;\n",
       "    }\n",
       "\n",
       "    .dataframe thead th {\n",
       "        text-align: right;\n",
       "    }\n",
       "</style>\n",
       "<table border=\"1\" class=\"dataframe\">\n",
       "  <thead>\n",
       "    <tr style=\"text-align: right;\">\n",
       "      <th></th>\n",
       "      <th>Polarity</th>\n",
       "      <th>Sentence</th>\n",
       "      <th>Filter Sentence</th>\n",
       "      <th>Polarity_-1</th>\n",
       "      <th>Polarity_0</th>\n",
       "      <th>Polarity_1</th>\n",
       "    </tr>\n",
       "  </thead>\n",
       "  <tbody>\n",
       "    <tr>\n",
       "      <th>0</th>\n",
       "      <td>0</td>\n",
       "      <td>పరువునష్టాన్ని కలిగించే చర్యలను 1860 నాటి భారత...</td>\n",
       "      <td>పరువునష్టాన్ని కలిగించే చర్యలను 1860 నాటి భారత...</td>\n",
       "      <td>0.0</td>\n",
       "      <td>1.0</td>\n",
       "      <td>0.0</td>\n",
       "    </tr>\n",
       "    <tr>\n",
       "      <th>1</th>\n",
       "      <td>1</td>\n",
       "      <td>వాహనంలో ఉన్న పోలీసు సిబ్బందికి బుల్లెట్ ప్రూఫ్...</td>\n",
       "      <td>వాహనంలో ఉన్న పోలీసు సిబ్బందికి బుల్లెట్ ప్రూఫ్...</td>\n",
       "      <td>0.0</td>\n",
       "      <td>0.0</td>\n",
       "      <td>1.0</td>\n",
       "    </tr>\n",
       "    <tr>\n",
       "      <th>2</th>\n",
       "      <td>-1</td>\n",
       "      <td>దేశంపట్ల కానీ, ప్రజలపట్ల కానీ బాధ్యత కనిపించదు.</td>\n",
       "      <td>దేశంపట్ల కానీ ప్రజలపట్ల కానీ బాధ్యత కనిపించదు</td>\n",
       "      <td>1.0</td>\n",
       "      <td>0.0</td>\n",
       "      <td>0.0</td>\n",
       "    </tr>\n",
       "    <tr>\n",
       "      <th>3</th>\n",
       "      <td>0</td>\n",
       "      <td>ఒక పనిమనిషి కుమారుడు ఈ దేశ ప్రధాని కావడం అంబేద...</td>\n",
       "      <td>ఒక పనిమనిషి కుమారుడు ఈ దేశ ప్రధాని కావడం అంబేద...</td>\n",
       "      <td>0.0</td>\n",
       "      <td>1.0</td>\n",
       "      <td>0.0</td>\n",
       "    </tr>\n",
       "    <tr>\n",
       "      <th>4</th>\n",
       "      <td>0</td>\n",
       "      <td>మత ప్రాతిపదికన మనుషుల్ని రెచ్చగొట్టే ఉగ్రవాదం ...</td>\n",
       "      <td>మత ప్రాతిపదికన మనుషుల్ని రెచ్చగొట్టే ఉగ్రవాదం ...</td>\n",
       "      <td>0.0</td>\n",
       "      <td>1.0</td>\n",
       "      <td>0.0</td>\n",
       "    </tr>\n",
       "    <tr>\n",
       "      <th>...</th>\n",
       "      <td>...</td>\n",
       "      <td>...</td>\n",
       "      <td>...</td>\n",
       "      <td>...</td>\n",
       "      <td>...</td>\n",
       "      <td>...</td>\n",
       "    </tr>\n",
       "    <tr>\n",
       "      <th>5405</th>\n",
       "      <td>1</td>\n",
       "      <td>క్రీడాస్ఫూర్తి వీటన్నింటినీ మించి ఉన్నప్పుడు మ...</td>\n",
       "      <td>క్రీడాస్ఫూర్తి వీటన్నింటినీ మించి ఉన్నప్పుడు మ...</td>\n",
       "      <td>0.0</td>\n",
       "      <td>0.0</td>\n",
       "      <td>1.0</td>\n",
       "    </tr>\n",
       "    <tr>\n",
       "      <th>5406</th>\n",
       "      <td>0</td>\n",
       "      <td>ఆయన అందించిన చైతన్యంతో ఎదిగివచ్చి, సంఘటితమవుతు...</td>\n",
       "      <td>ఆయన అందించిన చైతన్యంతో ఎదిగివచ్చి సంఘటితమవుతున...</td>\n",
       "      <td>0.0</td>\n",
       "      <td>1.0</td>\n",
       "      <td>0.0</td>\n",
       "    </tr>\n",
       "    <tr>\n",
       "      <th>5407</th>\n",
       "      <td>1</td>\n",
       "      <td>భారతతో వాణిజ్యాన్ని వజ్రాలకు మాత్రమే పరిమితం చ...</td>\n",
       "      <td>భారతతో వాణిజ్యాన్ని వజ్రాలకు మాత్రమే పరిమితం చ...</td>\n",
       "      <td>0.0</td>\n",
       "      <td>0.0</td>\n",
       "      <td>1.0</td>\n",
       "    </tr>\n",
       "    <tr>\n",
       "      <th>5408</th>\n",
       "      <td>0</td>\n",
       "      <td>అంతర్జాతీయ టోర్నీల్లో పోర్చుగల్ విజేతగా నిలవడం...</td>\n",
       "      <td>అంతర్జాతీయ టోర్నీల్లో పోర్చుగల్ విజేతగా నిలవడం...</td>\n",
       "      <td>0.0</td>\n",
       "      <td>1.0</td>\n",
       "      <td>0.0</td>\n",
       "    </tr>\n",
       "    <tr>\n",
       "      <th>5409</th>\n",
       "      <td>0</td>\n",
       "      <td>కానీ, నాయకులకు ఈ అంశం సుదీర్ఘకాలం నానడం అవసరం.</td>\n",
       "      <td>కానీ నాయకులకు ఈ అంశం సుదీర్ఘకాలం నానడం అవసరం</td>\n",
       "      <td>0.0</td>\n",
       "      <td>1.0</td>\n",
       "      <td>0.0</td>\n",
       "    </tr>\n",
       "  </tbody>\n",
       "</table>\n",
       "<p>5410 rows × 6 columns</p>\n",
       "</div>"
      ],
      "text/plain": [
       "      Polarity                                           Sentence  \\\n",
       "0            0  పరువునష్టాన్ని కలిగించే చర్యలను 1860 నాటి భారత...   \n",
       "1            1  వాహనంలో ఉన్న పోలీసు సిబ్బందికి బుల్లెట్ ప్రూఫ్...   \n",
       "2           -1    దేశంపట్ల కానీ, ప్రజలపట్ల కానీ బాధ్యత కనిపించదు.   \n",
       "3            0  ఒక పనిమనిషి కుమారుడు ఈ దేశ ప్రధాని కావడం అంబేద...   \n",
       "4            0  మత ప్రాతిపదికన మనుషుల్ని రెచ్చగొట్టే ఉగ్రవాదం ...   \n",
       "...        ...                                                ...   \n",
       "5405         1  క్రీడాస్ఫూర్తి వీటన్నింటినీ మించి ఉన్నప్పుడు మ...   \n",
       "5406         0  ఆయన అందించిన చైతన్యంతో ఎదిగివచ్చి, సంఘటితమవుతు...   \n",
       "5407         1  భారతతో వాణిజ్యాన్ని వజ్రాలకు మాత్రమే పరిమితం చ...   \n",
       "5408         0  అంతర్జాతీయ టోర్నీల్లో పోర్చుగల్ విజేతగా నిలవడం...   \n",
       "5409         0     కానీ, నాయకులకు ఈ అంశం సుదీర్ఘకాలం నానడం అవసరం.   \n",
       "\n",
       "                                        Filter Sentence  Polarity_-1  \\\n",
       "0     పరువునష్టాన్ని కలిగించే చర్యలను 1860 నాటి భారత...          0.0   \n",
       "1     వాహనంలో ఉన్న పోలీసు సిబ్బందికి బుల్లెట్ ప్రూఫ్...          0.0   \n",
       "2         దేశంపట్ల కానీ ప్రజలపట్ల కానీ బాధ్యత కనిపించదు          1.0   \n",
       "3     ఒక పనిమనిషి కుమారుడు ఈ దేశ ప్రధాని కావడం అంబేద...          0.0   \n",
       "4     మత ప్రాతిపదికన మనుషుల్ని రెచ్చగొట్టే ఉగ్రవాదం ...          0.0   \n",
       "...                                                 ...          ...   \n",
       "5405  క్రీడాస్ఫూర్తి వీటన్నింటినీ మించి ఉన్నప్పుడు మ...          0.0   \n",
       "5406  ఆయన అందించిన చైతన్యంతో ఎదిగివచ్చి సంఘటితమవుతున...          0.0   \n",
       "5407  భారతతో వాణిజ్యాన్ని వజ్రాలకు మాత్రమే పరిమితం చ...          0.0   \n",
       "5408  అంతర్జాతీయ టోర్నీల్లో పోర్చుగల్ విజేతగా నిలవడం...          0.0   \n",
       "5409       కానీ నాయకులకు ఈ అంశం సుదీర్ఘకాలం నానడం అవసరం          0.0   \n",
       "\n",
       "      Polarity_0  Polarity_1  \n",
       "0            1.0         0.0  \n",
       "1            0.0         1.0  \n",
       "2            0.0         0.0  \n",
       "3            1.0         0.0  \n",
       "4            1.0         0.0  \n",
       "...          ...         ...  \n",
       "5405         0.0         1.0  \n",
       "5406         1.0         0.0  \n",
       "5407         0.0         1.0  \n",
       "5408         1.0         0.0  \n",
       "5409         1.0         0.0  \n",
       "\n",
       "[5410 rows x 6 columns]"
      ]
     },
     "execution_count": 9,
     "metadata": {},
     "output_type": "execute_result"
    }
   ],
   "source": [
    "from sklearn import preprocessing\n",
    "    \n",
    "encoder = preprocessing.OneHotEncoder(sparse = False)\n",
    "enc_df = pd.DataFrame(encoder.fit_transform(d[['Polarity']]))\n",
    "enc_df.columns = encoder.get_feature_names_out(['Polarity'])\n",
    "d = d.join(enc_df)\n",
    "d                                               "
   ]
  },
  {
   "cell_type": "markdown",
   "id": "c2508512",
   "metadata": {},
   "source": [
    "# Splitting the data into Train and Test\n"
   ]
  },
  {
   "cell_type": "code",
   "execution_count": 10,
   "id": "ae292484",
   "metadata": {},
   "outputs": [],
   "source": [
    "from sklearn.model_selection import train_test_split\n",
    "\n",
    "x_train,x_test,y_train,y_test = train_test_split(d['Filter Sentence'],d['Polarity'],test_size=0.2,random_state = 42,shuffle=True)"
   ]
  },
  {
   "cell_type": "code",
   "execution_count": 33,
   "id": "46c793c3",
   "metadata": {},
   "outputs": [
    {
     "name": "stdout",
     "output_type": "stream",
     "text": [
      "(4328,)\n",
      "(1082,)\n"
     ]
    }
   ],
   "source": [
    "print(y_train.shape)\n",
    "print(y_test.shape)"
   ]
  },
  {
   "cell_type": "markdown",
   "id": "2ea65833",
   "metadata": {},
   "source": [
    "# Feature extraction"
   ]
  },
  {
   "cell_type": "code",
   "execution_count": 14,
   "id": "847ab196",
   "metadata": {},
   "outputs": [],
   "source": [
    "from sklearn.feature_extraction.text import TfidfVectorizer, CountVectorizer\n",
    "\n",
    "\n",
    "tfidf_vect_ngram = TfidfVectorizer(analyzer='word', token_pattern=r'\\w{1,}', ngram_range=(2,3), max_features=5000)\n",
    "tfidf_vect_ngram.fit(d['Filter Sentence'])\n",
    "xtrain_tfidf_ngram =  tfidf_vect_ngram.transform(x_train)\n",
    "xtest_tfidf_ngram =  tfidf_vect_ngram.transform(x_test)"
   ]
  },
  {
   "cell_type": "markdown",
   "id": "6a351147",
   "metadata": {},
   "source": [
    "# Training model"
   ]
  },
  {
   "cell_type": "code",
   "execution_count": 19,
   "id": "0ba2f2a6",
   "metadata": {},
   "outputs": [
    {
     "data": {
      "text/plain": [
       "Pipeline(steps=[('vect', TfidfVectorizer()),\n",
       "                ('classifier', DecisionTreeClassifier())])"
      ]
     },
     "execution_count": 19,
     "metadata": {},
     "output_type": "execute_result"
    }
   ],
   "source": [
    "from sklearn.pipeline import Pipeline\n",
    "from sklearn import tree\n",
    "dt = tree.DecisionTreeClassifier()\n",
    "\n",
    "tfidf = TfidfVectorizer(strip_accents = None,preprocessor = None)\n",
    "dt_tfidf = Pipeline([('vect',tfidf),('classifier',dt)])\n",
    "dt_tfidf.fit(x_train,y_train)\n"
   ]
  },
  {
   "cell_type": "code",
   "execution_count": 20,
   "id": "918a3e44",
   "metadata": {},
   "outputs": [
    {
     "data": {
      "text/plain": [
       "Pipeline(steps=[('vect', TfidfVectorizer()),\n",
       "                ('classifier', DecisionTreeClassifier())])"
      ]
     },
     "execution_count": 20,
     "metadata": {},
     "output_type": "execute_result"
    }
   ],
   "source": [
    "Pipeline(steps=[('vect',TfidfVectorizer()),('classifier',dt)])"
   ]
  },
  {
   "cell_type": "markdown",
   "id": "ec63dfd1",
   "metadata": {},
   "source": [
    "# Testing Model"
   ]
  },
  {
   "cell_type": "code",
   "execution_count": 21,
   "id": "eed653cb",
   "metadata": {},
   "outputs": [
    {
     "name": "stdout",
     "output_type": "stream",
     "text": [
      "Test sentence0...‘బేటీ బచావ్ బేటీ పఢావ్’ నినాదం సమాజం ఆలోచనాతీరును మార్చివేసిందంటూ అందుకు ఉదాహరణగా రిపబ్లిక్ దినోత్సవ వేడుకల్లో ఆడపిల్లలకు ప్రాముఖ్యతనిచ్చాయంటూ ఆయన ఉదహరించిన రెండు రాష్ట్రాలూ ఆయన పార్టీ అధికారంలో ఉన్నవే లింగనిష్పత్తి విషయంలో వెనుకబడివున్నవే.... -1\n",
      "Test sentence1...వనబంధు కల్యాణ యోజన అమలుకు రెండు నెలలుగా సర్వేలు చేసిన అధికారులు మూడు మండలాల్లో అమలుకు చర్యలు చేపడుతున్నారు.... -1\n",
      "Test sentence2...నిరుపేద కుటుంబానికి చెందిన మత్స సంతోషి వెయిట్ లిఫ్టింగ్లో రజతం సాధించింది.... -1\n",
      "Test sentence3...సమాజ క్షేమం కోసం ఒక సమాచారాన్ని వెల్లడిచేయడం పరువునష్టం కిందికి రాదు అయితే అది సమాజక్షేమం కోసమని రుజువు చేయవలసి ఉంటుంది .... 0\n",
      "Test sentence4...ఇదే అంశాన్ని సైతం సుప్రీం కోర్టు లోధా కమిటీ విచారణ సందర్భంగా ప్రస్తావించింది.... 0\n",
      "Test sentence5...అందువల్ల మంత్రిత్వ శాఖ నుంచి ఏ సూచన వచ్చినా ప్రతికూల వాదనలనే వస్తాయి.... 0\n",
      "Test sentence6...పర్యావరణ పరిహారం మాత్రమే’ అని సర్దిచెప్పింది.... -1\n",
      "Test sentence7...ఈ కారణాలతోనే విద్యాసంస్థలు త్వరతిగతిన గుర్తింపు పొందలేకపోతున్నాయి.... 0\n",
      "Test sentence8...అలాగే జగదాంబ మాతకు జరిగిన పూజల్లో కూడా ఆమె పాల్గొన్నారు.... 0\n",
      "Test sentence9...ఏఐటీయూసీ జల్లా ప్రధాన కార్యదర్శి ఎస్ విలాస్ మాట్లాడుతూ అసంఘటిత రంగంలో పని చేస్తున్న కార్మికులకు ఉపాధి సామాజిక భద్రత కల్పించాలన్నారు.... 0\n"
     ]
    }
   ],
   "source": [
    "y_pred = dt_tfidf.predict(x_test)\n",
    "input_list = x_test.tolist()\n",
    "for i in range(10):\n",
    "    print('Test sentence'+str(i)+\"...\"+input_list[i]+\"....\",y_pred[i])"
   ]
  },
  {
   "cell_type": "code",
   "execution_count": 22,
   "id": "03d1a5b9",
   "metadata": {},
   "outputs": [
    {
     "data": {
      "text/plain": [
       "0.422365988909427"
      ]
     },
     "execution_count": 22,
     "metadata": {},
     "output_type": "execute_result"
    }
   ],
   "source": [
    "from sklearn.metrics import classification_report,accuracy_score,confusion_matrix\n",
    "accuracy_score(y_test,y_pred)"
   ]
  },
  {
   "cell_type": "code",
   "execution_count": 24,
   "id": "cc3c9a3b",
   "metadata": {},
   "outputs": [
    {
     "name": "stdout",
     "output_type": "stream",
     "text": [
      "              precision    recall  f1-score   support\n",
      "\n",
      "          -1       0.30      0.31      0.30       266\n",
      "           0       0.52      0.50      0.51       515\n",
      "           1       0.38      0.39      0.38       301\n",
      "\n",
      "    accuracy                           0.42      1082\n",
      "   macro avg       0.40      0.40      0.40      1082\n",
      "weighted avg       0.43      0.42      0.42      1082\n",
      "\n"
     ]
    }
   ],
   "source": [
    "print(classification_report(y_test,y_pred))"
   ]
  },
  {
   "cell_type": "markdown",
   "id": "3b25f496",
   "metadata": {},
   "source": [
    "# Saving Model"
   ]
  },
  {
   "cell_type": "code",
   "execution_count": 29,
   "id": "1c2e4921",
   "metadata": {},
   "outputs": [],
   "source": [
    "import pickle\n",
    "# model(saving lr_tfidf)\n",
    "pickle.dump(dt_tfidf,open('DT_model.pk1','wb'))"
   ]
  },
  {
   "cell_type": "markdown",
   "id": "b39343e6",
   "metadata": {},
   "source": [
    "# Using the saved Model"
   ]
  },
  {
   "cell_type": "code",
   "execution_count": 31,
   "id": "9f37080a",
   "metadata": {},
   "outputs": [
    {
     "data": {
      "text/plain": [
       "0.422365988909427"
      ]
     },
     "execution_count": 31,
     "metadata": {},
     "output_type": "execute_result"
    }
   ],
   "source": [
    "pickled_model = pickle.load(open('DT_model.pk1','rb'))\n",
    "ypred_hat = pickled_model.predict(x_test)\n",
    "accuracy_score(ypred_hat,y_test)\n"
   ]
  },
  {
   "cell_type": "code",
   "execution_count": 32,
   "id": "06b6248a",
   "metadata": {},
   "outputs": [
    {
     "name": "stdout",
     "output_type": "stream",
     "text": [
      "              precision    recall  f1-score   support\n",
      "\n",
      "          -1       0.31      0.30      0.30       280\n",
      "           0       0.50      0.52      0.51       494\n",
      "           1       0.39      0.38      0.38       308\n",
      "\n",
      "    accuracy                           0.42      1082\n",
      "   macro avg       0.40      0.40      0.40      1082\n",
      "weighted avg       0.42      0.42      0.42      1082\n",
      "\n"
     ]
    }
   ],
   "source": [
    "print(classification_report(ypred_hat,y_test))"
   ]
  },
  {
   "cell_type": "code",
   "execution_count": null,
   "id": "de8fcbaf",
   "metadata": {},
   "outputs": [],
   "source": []
  }
 ],
 "metadata": {
  "kernelspec": {
   "display_name": "Python 3 (ipykernel)",
   "language": "python",
   "name": "python3"
  },
  "language_info": {
   "codemirror_mode": {
    "name": "ipython",
    "version": 3
   },
   "file_extension": ".py",
   "mimetype": "text/x-python",
   "name": "python",
   "nbconvert_exporter": "python",
   "pygments_lexer": "ipython3",
   "version": "3.9.12"
  }
 },
 "nbformat": 4,
 "nbformat_minor": 5
}
